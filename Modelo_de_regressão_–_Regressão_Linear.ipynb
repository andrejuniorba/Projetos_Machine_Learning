{
  "nbformat": 4,
  "nbformat_minor": 0,
  "metadata": {
    "colab": {
      "name": "Modelo de regressão – Regressão Linear.ipynb",
      "provenance": [],
      "mount_file_id": "1ur7PsIRUdg6D-nZ4KugfLeyl1cEu97VY",
      "authorship_tag": "ABX9TyN420lpEoC4gWrcbOSV/zKT",
      "include_colab_link": true
    },
    "kernelspec": {
      "name": "python3",
      "display_name": "Python 3"
    },
    "language_info": {
      "name": "python"
    }
  },
  "cells": [
    {
      "cell_type": "markdown",
      "metadata": {
        "id": "view-in-github",
        "colab_type": "text"
      },
      "source": [
        "<a href=\"https://colab.research.google.com/github/andrejuniorba/Projetos_Machine_Learning/blob/main/Modelo_de_regress%C3%A3o_%E2%80%93_Regress%C3%A3o_Linear.ipynb\" target=\"_parent\"><img src=\"https://colab.research.google.com/assets/colab-badge.svg\" alt=\"Open In Colab\"/></a>"
      ]
    },
    {
      "cell_type": "code",
      "source": [
        "import pandas as pd\n",
        "import numpy as np\n",
        "\n",
        "import seaborn as sns\n",
        "import matplotlib.pyplot as plt"
      ],
      "metadata": {
        "id": "YdVOES-ysWzc"
      },
      "execution_count": 1,
      "outputs": []
    },
    {
      "cell_type": "markdown",
      "source": [
        "## 1.Base de dados\n",
        "\n",
        "Plan 1 = Base para treino\n",
        "\n",
        "Plan 2 = Base para previsões"
      ],
      "metadata": {
        "id": "q1INisvLsQuV"
      }
    },
    {
      "cell_type": "code",
      "execution_count": 2,
      "metadata": {
        "colab": {
          "base_uri": "https://localhost:8080/",
          "height": 207
        },
        "id": "jMl96zoVr0Me",
        "outputId": "02317698-09a2-4d05-da4b-7a7ccf2f664b"
      },
      "outputs": [
        {
          "output_type": "execute_result",
          "data": {
            "text/plain": [
              "       Salario  Limite_Emprestimo\n",
              "0  1250.219130        2900.124323\n",
              "1  1262.721321        2929.125566\n",
              "2  1275.348535        2958.416822\n",
              "3  1288.102020        2988.000990\n",
              "4  1300.983040        3017.881000"
            ],
            "text/html": [
              "\n",
              "  <div id=\"df-c3743177-4176-49c8-9254-ca26337b1d56\">\n",
              "    <div class=\"colab-df-container\">\n",
              "      <div>\n",
              "<style scoped>\n",
              "    .dataframe tbody tr th:only-of-type {\n",
              "        vertical-align: middle;\n",
              "    }\n",
              "\n",
              "    .dataframe tbody tr th {\n",
              "        vertical-align: top;\n",
              "    }\n",
              "\n",
              "    .dataframe thead th {\n",
              "        text-align: right;\n",
              "    }\n",
              "</style>\n",
              "<table border=\"1\" class=\"dataframe\">\n",
              "  <thead>\n",
              "    <tr style=\"text-align: right;\">\n",
              "      <th></th>\n",
              "      <th>Salario</th>\n",
              "      <th>Limite_Emprestimo</th>\n",
              "    </tr>\n",
              "  </thead>\n",
              "  <tbody>\n",
              "    <tr>\n",
              "      <th>0</th>\n",
              "      <td>1250.219130</td>\n",
              "      <td>2900.124323</td>\n",
              "    </tr>\n",
              "    <tr>\n",
              "      <th>1</th>\n",
              "      <td>1262.721321</td>\n",
              "      <td>2929.125566</td>\n",
              "    </tr>\n",
              "    <tr>\n",
              "      <th>2</th>\n",
              "      <td>1275.348535</td>\n",
              "      <td>2958.416822</td>\n",
              "    </tr>\n",
              "    <tr>\n",
              "      <th>3</th>\n",
              "      <td>1288.102020</td>\n",
              "      <td>2988.000990</td>\n",
              "    </tr>\n",
              "    <tr>\n",
              "      <th>4</th>\n",
              "      <td>1300.983040</td>\n",
              "      <td>3017.881000</td>\n",
              "    </tr>\n",
              "  </tbody>\n",
              "</table>\n",
              "</div>\n",
              "      <button class=\"colab-df-convert\" onclick=\"convertToInteractive('df-c3743177-4176-49c8-9254-ca26337b1d56')\"\n",
              "              title=\"Convert this dataframe to an interactive table.\"\n",
              "              style=\"display:none;\">\n",
              "        \n",
              "  <svg xmlns=\"http://www.w3.org/2000/svg\" height=\"24px\"viewBox=\"0 0 24 24\"\n",
              "       width=\"24px\">\n",
              "    <path d=\"M0 0h24v24H0V0z\" fill=\"none\"/>\n",
              "    <path d=\"M18.56 5.44l.94 2.06.94-2.06 2.06-.94-2.06-.94-.94-2.06-.94 2.06-2.06.94zm-11 1L8.5 8.5l.94-2.06 2.06-.94-2.06-.94L8.5 2.5l-.94 2.06-2.06.94zm10 10l.94 2.06.94-2.06 2.06-.94-2.06-.94-.94-2.06-.94 2.06-2.06.94z\"/><path d=\"M17.41 7.96l-1.37-1.37c-.4-.4-.92-.59-1.43-.59-.52 0-1.04.2-1.43.59L10.3 9.45l-7.72 7.72c-.78.78-.78 2.05 0 2.83L4 21.41c.39.39.9.59 1.41.59.51 0 1.02-.2 1.41-.59l7.78-7.78 2.81-2.81c.8-.78.8-2.07 0-2.86zM5.41 20L4 18.59l7.72-7.72 1.47 1.35L5.41 20z\"/>\n",
              "  </svg>\n",
              "      </button>\n",
              "      \n",
              "  <style>\n",
              "    .colab-df-container {\n",
              "      display:flex;\n",
              "      flex-wrap:wrap;\n",
              "      gap: 12px;\n",
              "    }\n",
              "\n",
              "    .colab-df-convert {\n",
              "      background-color: #E8F0FE;\n",
              "      border: none;\n",
              "      border-radius: 50%;\n",
              "      cursor: pointer;\n",
              "      display: none;\n",
              "      fill: #1967D2;\n",
              "      height: 32px;\n",
              "      padding: 0 0 0 0;\n",
              "      width: 32px;\n",
              "    }\n",
              "\n",
              "    .colab-df-convert:hover {\n",
              "      background-color: #E2EBFA;\n",
              "      box-shadow: 0px 1px 2px rgba(60, 64, 67, 0.3), 0px 1px 3px 1px rgba(60, 64, 67, 0.15);\n",
              "      fill: #174EA6;\n",
              "    }\n",
              "\n",
              "    [theme=dark] .colab-df-convert {\n",
              "      background-color: #3B4455;\n",
              "      fill: #D2E3FC;\n",
              "    }\n",
              "\n",
              "    [theme=dark] .colab-df-convert:hover {\n",
              "      background-color: #434B5C;\n",
              "      box-shadow: 0px 1px 3px 1px rgba(0, 0, 0, 0.15);\n",
              "      filter: drop-shadow(0px 1px 2px rgba(0, 0, 0, 0.3));\n",
              "      fill: #FFFFFF;\n",
              "    }\n",
              "  </style>\n",
              "\n",
              "      <script>\n",
              "        const buttonEl =\n",
              "          document.querySelector('#df-c3743177-4176-49c8-9254-ca26337b1d56 button.colab-df-convert');\n",
              "        buttonEl.style.display =\n",
              "          google.colab.kernel.accessAllowed ? 'block' : 'none';\n",
              "\n",
              "        async function convertToInteractive(key) {\n",
              "          const element = document.querySelector('#df-c3743177-4176-49c8-9254-ca26337b1d56');\n",
              "          const dataTable =\n",
              "            await google.colab.kernel.invokeFunction('convertToInteractive',\n",
              "                                                     [key], {});\n",
              "          if (!dataTable) return;\n",
              "\n",
              "          const docLinkHtml = 'Like what you see? Visit the ' +\n",
              "            '<a target=\"_blank\" href=https://colab.research.google.com/notebooks/data_table.ipynb>data table notebook</a>'\n",
              "            + ' to learn more about interactive tables.';\n",
              "          element.innerHTML = '';\n",
              "          dataTable['output_type'] = 'display_data';\n",
              "          await google.colab.output.renderOutput(dataTable, element);\n",
              "          const docLink = document.createElement('div');\n",
              "          docLink.innerHTML = docLinkHtml;\n",
              "          element.appendChild(docLink);\n",
              "        }\n",
              "      </script>\n",
              "    </div>\n",
              "  </div>\n",
              "  "
            ]
          },
          "metadata": {},
          "execution_count": 2
        }
      ],
      "source": [
        "base_dados = pd.read_excel('/content/drive/MyDrive/Dados - Data Science/BaseDados_RegressaoLinear.xlsx', 'Plan1')\n",
        "base_dados.head()"
      ]
    },
    {
      "cell_type": "code",
      "source": [
        "base_dados.info()"
      ],
      "metadata": {
        "id": "IK53s4-oszbO",
        "colab": {
          "base_uri": "https://localhost:8080/"
        },
        "outputId": "f0ef7d20-693c-40ba-dec3-efd16e2fa45e"
      },
      "execution_count": 3,
      "outputs": [
        {
          "output_type": "stream",
          "name": "stdout",
          "text": [
            "<class 'pandas.core.frame.DataFrame'>\n",
            "RangeIndex: 99 entries, 0 to 98\n",
            "Data columns (total 2 columns):\n",
            " #   Column             Non-Null Count  Dtype  \n",
            "---  ------             --------------  -----  \n",
            " 0   Salario            99 non-null     float64\n",
            " 1   Limite_Emprestimo  99 non-null     float64\n",
            "dtypes: float64(2)\n",
            "memory usage: 1.7 KB\n"
          ]
        }
      ]
    },
    {
      "cell_type": "code",
      "source": [
        "#Converter para array\n",
        "eixo_x = base_dados.iloc[:,0].values\n",
        "eixo_y = base_dados.iloc[:,1].values"
      ],
      "metadata": {
        "id": "i8-CH7Km9d9R"
      },
      "execution_count": 5,
      "outputs": []
    },
    {
      "cell_type": "code",
      "source": [
        "eixo_x"
      ],
      "metadata": {
        "colab": {
          "base_uri": "https://localhost:8080/"
        },
        "id": "pfsRvVTU-mma",
        "outputId": "a534f463-c0d1-4864-bde9-612b0ad6e64a"
      },
      "execution_count": 6,
      "outputs": [
        {
          "output_type": "execute_result",
          "data": {
            "text/plain": [
              "array([1250.21913   , 1262.7213213 , 1275.34853451, 1288.10201986,\n",
              "       1300.98304006, 1313.99287046, 1327.13279916, 1340.40412715,\n",
              "       1353.80816843, 1367.34625011, 1381.01971261, 1394.82990974,\n",
              "       1408.77820883, 1422.86599092, 1437.09465083, 1451.46559734,\n",
              "       1465.98025331, 1480.64005585, 1495.4464564 , 1510.40092097,\n",
              "       1525.50493018, 1540.75997948, 1556.16757927, 1571.72925507,\n",
              "       1587.44654762, 1603.32101309, 1619.35422323, 1635.54776546,\n",
              "       1651.90324311, 1668.42227554, 1685.1064983 , 1701.95756328,\n",
              "       1718.97713891, 1736.1669103 , 1753.52857941, 1771.0638652 ,\n",
              "       1788.77450385, 1806.66224889, 1824.72887138, 1842.97616009,\n",
              "       1861.4059217 , 1880.01998091, 1898.82018072, 1917.80838253,\n",
              "       1936.98646635, 1956.35633102, 1975.91989433, 1995.67909327,\n",
              "       2015.6358842 , 2035.79224305, 2056.15016548, 2076.71166713,\n",
              "       2097.4787838 , 2118.45357164, 2139.63810736, 2161.03448843,\n",
              "       2182.64483331, 2204.47128165, 2226.51599446, 2248.78115441,\n",
              "       2271.26896595, 2293.98165561, 2316.92147217, 2340.09068689,\n",
              "       2363.49159376, 2387.1265097 , 2410.99777479, 2435.10775254,\n",
              "       2459.45883007, 2484.05341837, 2508.89395255, 2533.98289208,\n",
              "       2559.322721  , 2584.91594821, 2610.76510769, 2636.87275877,\n",
              "       2663.24148635, 2689.87390122, 2716.77264023, 2743.94036663,\n",
              "       2771.3797703 , 2799.093568  , 2827.08450368, 2855.35534872,\n",
              "       2883.90890221, 2912.74799123, 2941.87547114, 2971.29422585,\n",
              "       3001.00716811, 3031.01723979, 3061.32741219, 3091.94068631,\n",
              "       3122.86009317, 3154.08869411, 3185.62958105, 3217.48587686,\n",
              "       3249.66073563, 3282.15734298, 3314.97891641])"
            ]
          },
          "metadata": {},
          "execution_count": 6
        }
      ]
    },
    {
      "cell_type": "markdown",
      "source": [
        "## 2.Visualização"
      ],
      "metadata": {
        "id": "e76jtmnb-_3e"
      }
    },
    {
      "cell_type": "code",
      "source": [
        "plt.figure(figsize=(10,5))\n",
        "plt.title('Gráfico com dois eixos [Salario x Limite]')\n",
        "plt.xlabel('Salário')\n",
        "plt.ylabel('Limite')\n",
        "plt.scatter(eixo_x,eixo_y);"
      ],
      "metadata": {
        "colab": {
          "base_uri": "https://localhost:8080/",
          "height": 350
        },
        "id": "BCrjVv6D-wdp",
        "outputId": "ae419d09-fba3-4e22-8ba2-d157169d6d8b"
      },
      "execution_count": 9,
      "outputs": [
        {
          "output_type": "display_data",
          "data": {
            "text/plain": [
              "<Figure size 720x360 with 1 Axes>"
            ],
            "image/png": "[encoded data removed]"
          },
          "metadata": {
            "needs_background": "light"
          }
        }
      ]
    },
    {
      "cell_type": "markdown",
      "source": [
        "## 3.Correlação"
      ],
      "metadata": {
        "id": "SUcAmwyBBXl3"
      }
    },
    {
      "cell_type": "code",
      "source": [
        "correlacao = np.corrcoef(eixo_x, eixo_y)\n",
        "correlacao"
      ],
      "metadata": {
        "colab": {
          "base_uri": "https://localhost:8080/"
        },
        "id": "jSJPhLcU_Q6K",
        "outputId": "1a2c8a7f-f0f0-4882-f95e-920eec0cd1e1"
      },
      "execution_count": 12,
      "outputs": [
        {
          "output_type": "execute_result",
          "data": {
            "text/plain": [
              "array([[1.        , 0.99949773],\n",
              "       [0.99949773, 1.        ]])"
            ]
          },
          "metadata": {},
          "execution_count": 12
        }
      ]
    },
    {
      "cell_type": "code",
      "source": [
        "plt.figure(figsize=(10,5))\n",
        "sns.heatmap(correlacao, annot=True);"
      ],
      "metadata": {
        "colab": {
          "base_uri": "https://localhost:8080/",
          "height": 324
        },
        "id": "zPAfOvDRAiaC",
        "outputId": "9bb64963-0f1d-495d-d33a-7a143be676bd"
      },
      "execution_count": 14,
      "outputs": [
        {
          "output_type": "display_data",
          "data": {
            "text/plain": [
              "<Figure size 720x360 with 2 Axes>"
            ],
            "image/png": "[encoded data removed]"
          },
          "metadata": {
            "needs_background": "light"
          }
        }
      ]
    },
    {
      "cell_type": "markdown",
      "source": [
        "## 4.Transformar em Matriz"
      ],
      "metadata": {
        "id": "Bu8Z1UiJDUzB"
      }
    },
    {
      "cell_type": "code",
      "source": [
        "#Transformar em Matriz\n",
        "eixo_x = eixo_x.reshape(-1,1)\n",
        "eixo_y = eixo_y.reshape(-1,1)"
      ],
      "metadata": {
        "id": "jtIv8tRPDCSZ"
      },
      "execution_count": 15,
      "outputs": []
    },
    {
      "cell_type": "code",
      "source": [
        "eixo_x"
      ],
      "metadata": {
        "colab": {
          "base_uri": "https://localhost:8080/"
        },
        "id": "1FScnPHbDoHA",
        "outputId": "944c9f48-6ff9-44f0-ebac-773e992d717e"
      },
      "execution_count": 16,
      "outputs": [
        {
          "output_type": "execute_result",
          "data": {
            "text/plain": [
              "array([[1250.21913   ],\n",
              "       [1262.7213213 ],\n",
              "       [1275.34853451],\n",
              "       [1288.10201986],\n",
              "       [1300.98304006],\n",
              "       [1313.99287046],\n",
              "       [1327.13279916],\n",
              "       [1340.40412715],\n",
              "       [1353.80816843],\n",
              "       [1367.34625011],\n",
              "       [1381.01971261],\n",
              "       [1394.82990974],\n",
              "       [1408.77820883],\n",
              "       [1422.86599092],\n",
              "       [1437.09465083],\n",
              "       [1451.46559734],\n",
              "       [1465.98025331],\n",
              "       [1480.64005585],\n",
              "       [1495.4464564 ],\n",
              "       [1510.40092097],\n",
              "       [1525.50493018],\n",
              "       [1540.75997948],\n",
              "       [1556.16757927],\n",
              "       [1571.72925507],\n",
              "       [1587.44654762],\n",
              "       [1603.32101309],\n",
              "       [1619.35422323],\n",
              "       [1635.54776546],\n",
              "       [1651.90324311],\n",
              "       [1668.42227554],\n",
              "       [1685.1064983 ],\n",
              "       [1701.95756328],\n",
              "       [1718.97713891],\n",
              "       [1736.1669103 ],\n",
              "       [1753.52857941],\n",
              "       [1771.0638652 ],\n",
              "       [1788.77450385],\n",
              "       [1806.66224889],\n",
              "       [1824.72887138],\n",
              "       [1842.97616009],\n",
              "       [1861.4059217 ],\n",
              "       [1880.01998091],\n",
              "       [1898.82018072],\n",
              "       [1917.80838253],\n",
              "       [1936.98646635],\n",
              "       [1956.35633102],\n",
              "       [1975.91989433],\n",
              "       [1995.67909327],\n",
              "       [2015.6358842 ],\n",
              "       [2035.79224305],\n",
              "       [2056.15016548],\n",
              "       [2076.71166713],\n",
              "       [2097.4787838 ],\n",
              "       [2118.45357164],\n",
              "       [2139.63810736],\n",
              "       [2161.03448843],\n",
              "       [2182.64483331],\n",
              "       [2204.47128165],\n",
              "       [2226.51599446],\n",
              "       [2248.78115441],\n",
              "       [2271.26896595],\n",
              "       [2293.98165561],\n",
              "       [2316.92147217],\n",
              "       [2340.09068689],\n",
              "       [2363.49159376],\n",
              "       [2387.1265097 ],\n",
              "       [2410.99777479],\n",
              "       [2435.10775254],\n",
              "       [2459.45883007],\n",
              "       [2484.05341837],\n",
              "       [2508.89395255],\n",
              "       [2533.98289208],\n",
              "       [2559.322721  ],\n",
              "       [2584.91594821],\n",
              "       [2610.76510769],\n",
              "       [2636.87275877],\n",
              "       [2663.24148635],\n",
              "       [2689.87390122],\n",
              "       [2716.77264023],\n",
              "       [2743.94036663],\n",
              "       [2771.3797703 ],\n",
              "       [2799.093568  ],\n",
              "       [2827.08450368],\n",
              "       [2855.35534872],\n",
              "       [2883.90890221],\n",
              "       [2912.74799123],\n",
              "       [2941.87547114],\n",
              "       [2971.29422585],\n",
              "       [3001.00716811],\n",
              "       [3031.01723979],\n",
              "       [3061.32741219],\n",
              "       [3091.94068631],\n",
              "       [3122.86009317],\n",
              "       [3154.08869411],\n",
              "       [3185.62958105],\n",
              "       [3217.48587686],\n",
              "       [3249.66073563],\n",
              "       [3282.15734298],\n",
              "       [3314.97891641]])"
            ]
          },
          "metadata": {},
          "execution_count": 16
        }
      ]
    },
    {
      "cell_type": "markdown",
      "source": [
        "## 5.Dividir os dados em teste e treino"
      ],
      "metadata": {
        "id": "78lk6sD-D5_3"
      }
    },
    {
      "cell_type": "code",
      "source": [
        "from sklearn.model_selection import train_test_split\n",
        "\n",
        "x_treinamento, x_teste, y_treinamento, y_teste = train_test_split(\n",
        "    eixo_x,\n",
        "    eixo_y,\n",
        "    #dividir 80% dos dados para treinamento e 20% para teste\n",
        "    test_size = 0.20,\n",
        ")\n",
        "\n",
        "print(len(base_dados))\n",
        "print(len(x_treinamento))\n",
        "print(len(x_teste))"
      ],
      "metadata": {
        "colab": {
          "base_uri": "https://localhost:8080/"
        },
        "id": "pa3gkRjgDvUB",
        "outputId": "d008a37d-783e-4e98-f38d-5355cba65cb5"
      },
      "execution_count": 17,
      "outputs": [
        {
          "output_type": "stream",
          "name": "stdout",
          "text": [
            "99\n",
            "79\n",
            "20\n"
          ]
        }
      ]
    },
    {
      "cell_type": "markdown",
      "source": [
        "## 6.Modelo"
      ],
      "metadata": {
        "id": "1feUG4T4FZlH"
      }
    },
    {
      "cell_type": "code",
      "source": [
        "from sklearn.linear_model import LinearRegression\n",
        "\n",
        "#Função da regressão linear y=ax+b\n",
        "funcao_regressao = LinearRegression()\n",
        "#Treino\n",
        "funcao_regressao.fit(x_treinamento,y_treinamento)\n"
      ],
      "metadata": {
        "colab": {
          "base_uri": "https://localhost:8080/"
        },
        "id": "uYZxDYxlFdfg",
        "outputId": "50f3c039-d8a7-4147-ffff-1a79c6ae1173"
      },
      "execution_count": 18,
      "outputs": [
        {
          "output_type": "execute_result",
          "data": {
            "text/plain": [
              "LinearRegression()"
            ]
          },
          "metadata": {},
          "execution_count": 18
        }
      ]
    },
    {
      "cell_type": "code",
      "source": [
        "#Peformance\n",
        "funcao_regressao.score(x_treinamento,y_treinamento)"
      ],
      "metadata": {
        "colab": {
          "base_uri": "https://localhost:8080/"
        },
        "id": "pKu8fARMSxnu",
        "outputId": "96f8a2eb-2602-4278-d02f-342d34cfd0a4"
      },
      "execution_count": 19,
      "outputs": [
        {
          "output_type": "execute_result",
          "data": {
            "text/plain": [
              "0.9990594520378565"
            ]
          },
          "metadata": {},
          "execution_count": 19
        }
      ]
    },
    {
      "cell_type": "code",
      "source": [
        "#Reta da regressão\n",
        "plt.figure(figsize=(10,5))\n",
        "plt.scatter(x_treinamento,y_treinamento)\n",
        "plt.plot(x_teste, funcao_regressao.predict(x_teste), color = 'red');"
      ],
      "metadata": {
        "colab": {
          "base_uri": "https://localhost:8080/",
          "height": 320
        },
        "id": "Wjp0oqscTFUK",
        "outputId": "70998c48-86d9-4e38-b318-57d4e53e5dde"
      },
      "execution_count": 21,
      "outputs": [
        {
          "output_type": "display_data",
          "data": {
            "text/plain": [
              "<Figure size 720x360 with 1 Axes>"
            ],
            "image/png": "[encoded data removed]"
          },
          "metadata": {
            "needs_background": "light"
          }
        }
      ]
    },
    {
      "cell_type": "markdown",
      "source": [
        "## 7.Avaliando Modelo"
      ],
      "metadata": {
        "id": "aOzcjDI-UDHy"
      }
    },
    {
      "cell_type": "code",
      "source": [
        "previsoes = funcao_regressao.predict(x_teste)\n",
        "\n",
        "from sklearn import metrics\n",
        "#Avaliar o erro médio\n",
        "print('RMSE', np.sqrt(metrics.mean_squared_error(y_teste, previsoes)))"
      ],
      "metadata": {
        "colab": {
          "base_uri": "https://localhost:8080/"
        },
        "id": "bhvbc3EnTqiO",
        "outputId": "704e1660-4bf0-463f-8d28-af0fc64ce38f"
      },
      "execution_count": 23,
      "outputs": [
        {
          "output_type": "stream",
          "name": "stdout",
          "text": [
            "RMSE 48.66789402388099\n"
          ]
        }
      ]
    },
    {
      "cell_type": "markdown",
      "source": [
        "##8.Previsões Futuras"
      ],
      "metadata": {
        "id": "L_O5XMAmWt40"
      }
    },
    {
      "cell_type": "code",
      "source": [
        "#Um cliente que ganha R$1200, qual o limite de empréstimo?\n",
        "\n",
        "funcao_regressao.predict([[1200]])"
      ],
      "metadata": {
        "colab": {
          "base_uri": "https://localhost:8080/"
        },
        "id": "GrVpg3mIU1Ks",
        "outputId": "d2994dca-f40e-4d63-87b7-b7164de37dbe"
      },
      "execution_count": 31,
      "outputs": [
        {
          "output_type": "execute_result",
          "data": {
            "text/plain": [
              "array([[2799.77717591]])"
            ]
          },
          "metadata": {},
          "execution_count": 31
        }
      ]
    },
    {
      "cell_type": "code",
      "source": [
        ""
      ],
      "metadata": {
        "id": "-kTiFEP7W-w5"
      },
      "execution_count": null,
      "outputs": []
    }
  ]
}